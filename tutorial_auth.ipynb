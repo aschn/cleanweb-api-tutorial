{
 "metadata": {
  "name": "",
  "signature": "sha256:707ec19017d4f1985c134c25946dcde64df713b65b443b0b79afb0872801eaea"
 },
 "nbformat": 3,
 "nbformat_minor": 0,
 "worksheets": [
  {
   "cells": [
    {
     "cell_type": "markdown",
     "metadata": {},
     "source": [
      "# Authentication and authorization\n",
      "\n",
      "Authentication is how the API decides that you're who you say you are. Authorization is how the API decides whether or not you get access to what you're requesting. They often go together, and I'm not going to be pedantic about the difference here.\n",
      "\n",
      "Many APIs require you to authenticate to be able to view some or all of the content. There are a few main types of authentication:\n",
      "* HTTP Basic Auth (username and password)\n",
      "* Token in header\n",
      "* OAuth"
     ]
    },
    {
     "cell_type": "markdown",
     "metadata": {},
     "source": [
      "## Security note\n",
      "\n",
      "**Never store any auth credentials in a publicly version-controlled file, e.g., this one!** Ideally, never store authcredentials in a file at all. I like to keep them in shell environment variables."
     ]
    },
    {
     "cell_type": "code",
     "collapsed": false,
     "input": [
      "import requests\n",
      "from os import environ\n",
      "from urlparse import urljoin"
     ],
     "language": "python",
     "metadata": {},
     "outputs": [],
     "prompt_number": 2
    },
    {
     "cell_type": "code",
     "collapsed": false,
     "input": [
      "# on the command line:\n",
      "# export GITHUB_USERNAME=aschn\n",
      "\n",
      "# get credentials from environment variables\n",
      "GITHUB_USERNAME = environ.get('GITHUB_USERNAME')\n",
      "GITHUB_PASSWORD = environ.get('GITHUB_PASSWORD')\n",
      "GITHUB_TOKEN = environ.get('GITHUB_TOKEN')\n",
      "print GITHUB_USERNAME"
     ],
     "language": "python",
     "metadata": {},
     "outputs": [
      {
       "output_type": "stream",
       "stream": "stdout",
       "text": [
        "aschn\n"
       ]
      }
     ],
     "prompt_number": 2
    },
    {
     "cell_type": "code",
     "collapsed": false,
     "input": [
      "# auth error status: 401 Unauthorized\n",
      "response = requests.get('https://api.github.com/user')\n",
      "print response.status_code\n",
      "print response.json()"
     ],
     "language": "python",
     "metadata": {},
     "outputs": [
      {
       "output_type": "stream",
       "stream": "stdout",
       "text": [
        "401\n",
        "{u'documentation_url': u'https://developer.github.com/v3', u'message': u'Requires authentication'}\n"
       ]
      }
     ],
     "prompt_number": 3
    },
    {
     "cell_type": "code",
     "collapsed": false,
     "input": [
      "# HTTP basic auth with wrong credentials\n",
      "response = requests.get('https://api.github.com/user', auth=(GITHUB_USERNAME, 'bad password'))\n",
      "print response.status_code\n",
      "print response.json()"
     ],
     "language": "python",
     "metadata": {},
     "outputs": [
      {
       "output_type": "stream",
       "stream": "stdout",
       "text": [
        "401\n",
        "{u'documentation_url': u'https://developer.github.com/v3', u'message': u'Bad credentials'}\n"
       ]
      }
     ],
     "prompt_number": 4
    },
    {
     "cell_type": "markdown",
     "metadata": {},
     "source": [
      "## HTTP Basic Auth\n",
      "\n",
      "In basic auth, you simply pass your username and password with the request. Python Requests has a handy `auth` kwarg that handles including the username and password for you. **Basic auth passes your username and password in clear text, so only use it over secure channels like SSL.**"
     ]
    },
    {
     "cell_type": "code",
     "collapsed": false,
     "input": [
      "# HTTP basic auth with right credentials\n",
      "response = requests.get('https://api.github.com/user', auth=(GITHUB_USERNAME, GITHUB_PASSWORD))\n",
      "print response.status_code"
     ],
     "language": "python",
     "metadata": {},
     "outputs": [
      {
       "output_type": "stream",
       "stream": "stdout",
       "text": [
        "200\n"
       ]
      }
     ],
     "prompt_number": 6
    },
    {
     "cell_type": "code",
     "collapsed": false,
     "input": [
      "# a wrapper method for the GitHub API, with basic authentication\n",
      "def fetch_github_data(endpoint,\n",
      "                      method='get', base_url='https://api.github.com',\n",
      "                      username=None, password=None,\n",
      "                      **kwargs):\n",
      "    \"\"\"\n",
      "    By default makes a GET request to https://api.github.com/endpoint,\n",
      "    passing any kwargs to requests.\n",
      "    Attempts to authenticate if given a username and password.\n",
      "    Returns the JSON-decoded response content.\n",
      "    \"\"\"\n",
      "    # assemble url\n",
      "    url = urljoin(base_url, endpoint)\n",
      "\n",
      "    # make request\n",
      "    response = make_github_request(url, method, username, password, **kwargs)\n",
      "\n",
      "    # extract JSON data\n",
      "    data = response.json()\n",
      "            \n",
      "    # return\n",
      "    return data\n",
      "    \n",
      "def make_github_request(url, method,\n",
      "                        username=None, password=None,\n",
      "                        **kwargs):    \n",
      "    # choose request method\n",
      "    try:\n",
      "        requester = getattr(requests, method.lower())\n",
      "    except AttributeError:\n",
      "        raise ValueError('%s is not a HTTP method' % method)\n",
      "    \n",
      "    # make request\n",
      "    response = requester(url, **kwargs)\n",
      "    \n",
      "    # make request\n",
      "    if username and password:\n",
      "        response = requester(url, auth=(username, password), **kwargs)\n",
      "    else:\n",
      "        response = requester(url, **kwargs)\n",
      "        \n",
      "    # check response status for authentication error\n",
      "    if response.status_code == 401:\n",
      "        raise ValueError('Authentication error: %s' % response.json()['message'])\n",
      "\n",
      "    # return response\n",
      "    return response"
     ],
     "language": "python",
     "metadata": {},
     "outputs": [],
     "prompt_number": 9
    },
    {
     "cell_type": "code",
     "collapsed": false,
     "input": [
      "fetch_github_data('user', username=GITHUB_USERNAME, password=GITHUB_PASSWORD)"
     ],
     "language": "python",
     "metadata": {},
     "outputs": [
      {
       "metadata": {},
       "output_type": "pyout",
       "prompt_number": 10,
       "text": [
        "{u'avatar_url': u'https://avatars.githubusercontent.com/u/3664000?v=3',\n",
        " u'bio': None,\n",
        " u'blog': u'http://annaschneider.org/',\n",
        " u'collaborators': 5,\n",
        " u'company': None,\n",
        " u'created_at': u'2013-02-21T22:37:00Z',\n",
        " u'disk_usage': 3717,\n",
        " u'email': None,\n",
        " u'events_url': u'https://api.github.com/users/aschn/events{/privacy}',\n",
        " u'followers': 9,\n",
        " u'followers_url': u'https://api.github.com/users/aschn/followers',\n",
        " u'following': 6,\n",
        " u'following_url': u'https://api.github.com/users/aschn/following{/other_user}',\n",
        " u'gists_url': u'https://api.github.com/users/aschn/gists{/gist_id}',\n",
        " u'gravatar_id': u'',\n",
        " u'hireable': False,\n",
        " u'html_url': u'https://github.com/aschn',\n",
        " u'id': 3664000,\n",
        " u'location': u'SF Bay Area',\n",
        " u'login': u'aschn',\n",
        " u'name': u'Anna Schneider',\n",
        " u'organizations_url': u'https://api.github.com/users/aschn/orgs',\n",
        " u'owned_private_repos': 2,\n",
        " u'plan': {u'collaborators': 0,\n",
        "  u'name': u'micro',\n",
        "  u'private_repos': 5,\n",
        "  u'space': 976562499},\n",
        " u'private_gists': 0,\n",
        " u'public_gists': 1,\n",
        " u'public_repos': 10,\n",
        " u'received_events_url': u'https://api.github.com/users/aschn/received_events',\n",
        " u'repos_url': u'https://api.github.com/users/aschn/repos',\n",
        " u'site_admin': False,\n",
        " u'starred_url': u'https://api.github.com/users/aschn/starred{/owner}{/repo}',\n",
        " u'subscriptions_url': u'https://api.github.com/users/aschn/subscriptions',\n",
        " u'total_private_repos': 2,\n",
        " u'type': u'User',\n",
        " u'updated_at': u'2015-04-01T03:21:39Z',\n",
        " u'url': u'https://api.github.com/users/aschn'}"
       ]
      }
     ],
     "prompt_number": 10
    },
    {
     "cell_type": "markdown",
     "metadata": {},
     "source": [
      "## Token in Authorization header\n",
      "\n",
      "In token-based auth, you exchange your username and password for a token, then supply that token to authenticate future requests. This is more secure than basic auth because if someone gets ahold of your token, they still don't know your username and password. It's extra nice if you have users and you want to call APIs on their behalf, because you may only have to store the token and you don't have the liability of storing the username and password too. That said, the token is sufficient to impersonate someone to the API, so **secure a token as you would a password**.\n",
      "\n",
      "Some APIs provide tokens via endpoints (using basic auth), and some have buttons you can click on the main site to generate, expire, and refresh tokens. GitHub's token site is at https://github.com/settings/applications#personal-access-tokens."
     ]
    },
    {
     "cell_type": "code",
     "collapsed": false,
     "input": [
      "# Token in header\n",
      "headers = {'Authorization': 'token %s' % GITHUB_TOKEN}\n",
      "response = requests.get('https://api.github.com/user', headers=headers)\n",
      "print response.status_code"
     ],
     "language": "python",
     "metadata": {},
     "outputs": [
      {
       "output_type": "stream",
       "stream": "stdout",
       "text": [
        "200\n"
       ]
      }
     ],
     "prompt_number": 8
    },
    {
     "cell_type": "markdown",
     "metadata": {},
     "source": [
      "## OAuth"
     ]
    },
    {
     "cell_type": "markdown",
     "metadata": {},
     "source": [
      "OAuth claims to make token-based auth simpler and more standardized, but [most developers agree](http://blog.oauth.io/oauth-tutorial) that OAuth takes token-based auth to a whole new level of complicated. With OAuth, there are additional hurdles to obtaining a token, and tokens often need to be refreshed more frequently. The biggest benefit comes from \n",
      "\n",
      "Say you're making an Opower clone and you want to want to share your users' energy usage stats with their social media friends. The flow looks more or less like this:"
     ]
    },
    {
     "cell_type": "markdown",
     "metadata": {},
     "source": [
      "1. You register your app with the social network, and obtain OAuth credentials called **client id** and **client secret**.\n",
      "2. A user indicates they want to connect you to the social network (maybe by clicking a \"share this\" button on your site).\n",
      "3. Your app redirects the user to an **authorization url** controlled by the social network, asking only for permission to share (and not to make new friends or anything else).\n",
      "4. The user enters their username and password for the social network on the social network's own site, and your app never sees it.\n",
      "5. The social network responds to your app with an **authorization code**.\n",
      "6. Your app sends the authorization code (and maybe other credentials) to a **token url** controlled by the social network.\n",
      "7. The social network responds with an **access token** and often a **refresh token** and a **token expiry time**.\n",
      "8. Your app stores the access token, and uses it to make API calls on behalf of the user.\n",
      "8. When the access token expires, your app uses the refresh token to request a new access token."
     ]
    },
    {
     "cell_type": "markdown",
     "metadata": {},
     "source": [
      "This is a big fat mess. The [requests-oauthlib](https://requests-oauthlib.readthedocs.org/en/latest/oauth2_workflow.html) package helps, but it's still a mess. Let's go through the [GitHub example](https://requests-oauthlib.readthedocs.org/en/latest/examples/github.html) on the request-oauthlib site."
     ]
    },
    {
     "cell_type": "code",
     "collapsed": false,
     "input": [
      "# 1: register at https://github.com/settings/applications/new\n",
      "GITHUB_CLIENT_ID = environ.get('GITHUB_CLIENT_ID')\n",
      "GITHUB_CLIENT_SECRET = environ.get('GITHUB_CLIENT_SECRET')\n",
      "print GITHUB_CLIENT_ID"
     ],
     "language": "python",
     "metadata": {},
     "outputs": [
      {
       "output_type": "stream",
       "stream": "stdout",
       "text": [
        "e734fb66e72128aeb8c1\n"
       ]
      }
     ],
     "prompt_number": 15
    },
    {
     "cell_type": "code",
     "collapsed": false,
     "input": [
      "# get ready for step 3\n",
      "from requests_oauthlib import OAuth2Session\n",
      "authorization_base_url = 'https://github.com/login/oauth/authorize'\n",
      "github = OAuth2Session(GITHUB_CLIENT_ID)\n",
      "\n",
      "# 3: use oauth helper to redirect\n",
      "authorization_url, state = github.authorization_url(authorization_base_url)\n",
      "print 'Please go here and authorize,', authorization_url"
     ],
     "language": "python",
     "metadata": {},
     "outputs": [
      {
       "output_type": "stream",
       "stream": "stdout",
       "text": [
        "Please go here and authorize, https://github.com/login/oauth/authorize?response_type=code&client_id=e734fb66e72128aeb8c1&state=jsd4ZH3Gja0Ixj6y8OEB4qx6D7bAjv\n"
       ]
      }
     ],
     "prompt_number": 12
    },
    {
     "cell_type": "code",
     "collapsed": false,
     "input": [
      "# 5: get authorization code from redirect url\n",
      "redirect_response = 'https://github.com/aschn/cleanweb-api-tutorial?code=063f9d091c134b8e92e8&state=jsd4ZH3Gja0Ixj6y8OEB4qx6D7bAjv'\n",
      "\n",
      "# 6 and 7: get access token\n",
      "token_url = 'https://github.com/login/oauth/access_token'\n",
      "token = github.fetch_token(token_url, client_secret=GITHUB_CLIENT_SECRET, authorization_response=redirect_response)\n",
      "print token"
     ],
     "language": "python",
     "metadata": {},
     "outputs": [
      {
       "output_type": "stream",
       "stream": "stdout",
       "text": [
        "{u'access_token': u'a440400ce5ea0ee3c470c843b3a86b31132f9095', u'token_type': u'bearer', u'scope': [u'']}\n"
       ]
      }
     ],
     "prompt_number": 13
    },
    {
     "cell_type": "code",
     "collapsed": false,
     "input": [
      "# 8: use the token\n",
      "response = github.get('https://api.github.com/user')\n",
      "print response.json()"
     ],
     "language": "python",
     "metadata": {},
     "outputs": [
      {
       "output_type": "stream",
       "stream": "stdout",
       "text": [
        "{u'public_repos': 10, u'site_admin': False, u'subscriptions_url': u'https://api.github.com/users/aschn/subscriptions', u'gravatar_id': u'', u'hireable': False, u'id': 3664000, u'followers_url': u'https://api.github.com/users/aschn/followers', u'following_url': u'https://api.github.com/users/aschn/following{/other_user}', u'blog': u'http://annaschneider.org/', u'followers': 9, u'location': u'SF Bay Area', u'type': u'User', u'email': None, u'bio': None, u'gists_url': u'https://api.github.com/users/aschn/gists{/gist_id}', u'company': None, u'events_url': u'https://api.github.com/users/aschn/events{/privacy}', u'html_url': u'https://github.com/aschn', u'updated_at': u'2015-04-01T03:21:39Z', u'received_events_url': u'https://api.github.com/users/aschn/received_events', u'starred_url': u'https://api.github.com/users/aschn/starred{/owner}{/repo}', u'public_gists': 1, u'name': u'Anna Schneider', u'organizations_url': u'https://api.github.com/users/aschn/orgs', u'url': u'https://api.github.com/users/aschn', u'created_at': u'2013-02-21T22:37:00Z', u'avatar_url': u'https://avatars.githubusercontent.com/u/3664000?v=3', u'repos_url': u'https://api.github.com/users/aschn/repos', u'following': 6, u'login': u'aschn'}\n"
       ]
      }
     ],
     "prompt_number": 14
    }
   ],
   "metadata": {}
  }
 ]
}