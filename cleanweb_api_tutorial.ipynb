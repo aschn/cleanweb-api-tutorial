{
 "metadata": {
  "name": "",
  "signature": "sha256:8edbd32f5d972b99e66574684ddac25dbf5217c0905bfc86d61293b803ccc2c6"
 },
 "nbformat": 3,
 "nbformat_minor": 0,
 "worksheets": [
  {
   "cells": [
    {
     "cell_type": "markdown",
     "metadata": {},
     "source": [
      "# Outline\n",
      "1. HTTP overview\n",
      "2. Simple examples\n",
      "3. Status codes\n",
      "\n",
      "We'll use the GitHub API as an example. Here are the [docs](https://developer.github.com/v3/).\n",
      "See the other tutorials in this repo for pagination, authentication, and throttling examples."
     ]
    },
    {
     "cell_type": "markdown",
     "metadata": {},
     "source": [
      "## Tools\n",
      "* shell: ```curl```, ```wget```\n",
      "* python: ```requests```. [Requests](http://docs.python-requests.org/) is amazing.\n",
      "* for testing: http://requestb.in/"
     ]
    },
    {
     "cell_type": "code",
     "collapsed": false,
     "input": [
      "import requests"
     ],
     "language": "python",
     "metadata": {},
     "outputs": [],
     "prompt_number": 1
    },
    {
     "cell_type": "markdown",
     "metadata": {},
     "source": [
      "## What are HTTP requests and responses?\n",
      "\n",
      "An HTTP request is a message formatted like so (see http://requestb.in/):\n",
      "\n",
      "    [method] [url] [http version]\n",
      "    Header1: value1\n",
      "    Header2: value2\n",
      "    \n",
      "    request content\n",
      "\n",
      "An HTTP response is a message formatted like so:\n",
      "\n",
      "    [method] [status code]\n",
      "    Header1: value1\n",
      "    Header2: value2\n",
      "    \n",
      "    response content\n"
     ]
    },
    {
     "cell_type": "markdown",
     "metadata": {},
     "source": [
      "## What is REST?\n",
      "\n",
      "APIs where HTTP methods correspond to database CRUD operations are \"RESTful\".\n",
      "\n",
      "| HTTP name | CRUD name | what it does |\n",
      "|-----------|-----------|--------------|\n",
      "| POST | Create | add new data |\n",
      "| GET | Retrieve | get existing data |\n",
      "| PUT | Update | edit existing data |\n",
      "| DELETE | Delete | remove existing data |\n",
      "\n",
      "GET is what your web browser does by default."
     ]
    },
    {
     "cell_type": "markdown",
     "metadata": {},
     "source": [
      "## Examples: httpbin.org"
     ]
    },
    {
     "cell_type": "code",
     "collapsed": false,
     "input": [
      "# to specify query parameters for retrieving data, use GET params\n",
      "response = requests.get('http://httpbin.org/get', params={'a': 1, 'b': 2})\n",
      "print 'url has query params:', response.url"
     ],
     "language": "python",
     "metadata": {},
     "outputs": []
    },
    {
     "cell_type": "code",
     "collapsed": false,
     "input": [
      "# to specify data to create, use POST data payload\n",
      "payload = {'a': 1, 'b': 2}\n",
      "\n",
      "# can post a dictionary as a form\n",
      "response1 = requests.post('http://httpbin.org/post', data=payload)\n",
      "print 'url has no params:', response1.url\n",
      "print 'data dict is in a form:', response1.json()['form']\n",
      "\n",
      "# or can post a JSON-encoded string as raw data\n",
      "import json\n",
      "response2 = requests.post('http://httpbin.org/post', data=json.dumps(payload))\n",
      "print 'data string is in data:', response2.json()['data']\n",
      "print response2.headers"
     ],
     "language": "python",
     "metadata": {},
     "outputs": []
    },
    {
     "cell_type": "markdown",
     "metadata": {},
     "source": [
      "## Examples: GitHub API"
     ]
    },
    {
     "cell_type": "code",
     "collapsed": false,
     "input": [
      "# make a request to see my public repos\n",
      "response = requests.get('https://api.github.com/orgs/bgrid/repos', params={'type': 'public'})\n",
      "\n",
      "# response content is always available as text string\n",
      "print 'text is type %s' % type(response.text)\n",
      "\n",
      "# response content may be available as JSON dict\n",
      "print 'json is type %s' % type(response.json())\n",
      "\n",
      "print response.json()"
     ],
     "language": "python",
     "metadata": {},
     "outputs": []
    },
    {
     "cell_type": "markdown",
     "metadata": {},
     "source": [
      "## Did it work?\n",
      "Check the [status code](http://en.wikipedia.org/wiki/List_of_HTTP_status_codes)."
     ]
    },
    {
     "cell_type": "code",
     "collapsed": false,
     "input": [
      "# status 200 OK\n",
      "response = requests.get('http://github.com/aschn/cleanweb-api-tutorial')\n",
      "print 'yes it worked:', response.status_code"
     ],
     "language": "python",
     "metadata": {},
     "outputs": []
    },
    {
     "cell_type": "code",
     "collapsed": false,
     "input": [
      "# status 404 Not Found\n",
      "response = requests.get('http://github.com/aschn/notarepo')\n",
      "print 'no it failed:', response.status_code"
     ],
     "language": "python",
     "metadata": {},
     "outputs": []
    },
    {
     "cell_type": "code",
     "collapsed": false,
     "input": [
      "from urlparse import urljoin\n",
      "\n",
      "# a simple wrapper method for the GitHub API\n",
      "def fetch_github_data(endpoint,\n",
      "                      method='get', base_url='https://api.github.com',\n",
      "                      **kwargs):\n",
      "    \"\"\"\n",
      "    By default makes a GET request to https://api.github.com/endpoint,\n",
      "    passing any kwargs to requests.\n",
      "    Returns the JSON-decoded response content.\n",
      "    \"\"\"\n",
      "    # assemble url\n",
      "    url = urljoin(base_url, endpoint)\n",
      "    \n",
      "    # choose request method\n",
      "    try:\n",
      "        requester = getattr(requests, method.lower())\n",
      "    except AttributeError:\n",
      "        raise ValueError('%s is not a HTTP method' % method)  \n",
      "    \n",
      "    # make request\n",
      "    response = requester(url, **kwargs)\n",
      "    \n",
      "    # extract JSON data\n",
      "    data = response.json()\n",
      "    \n",
      "    # return data\n",
      "    return data"
     ],
     "language": "python",
     "metadata": {},
     "outputs": []
    },
    {
     "cell_type": "code",
     "collapsed": false,
     "input": [
      "fetch_github_data('/users/aschn', method='get')"
     ],
     "language": "python",
     "metadata": {},
     "outputs": [
      {
       "ename": "NameError",
       "evalue": "name 'fetch_github_data' is not defined",
       "output_type": "pyerr",
       "traceback": [
        "\u001b[0;31m---------------------------------------------------------------------------\u001b[0m\n\u001b[0;31mNameError\u001b[0m                                 Traceback (most recent call last)",
        "\u001b[0;32m<ipython-input-2-90bdb93c7e9d>\u001b[0m in \u001b[0;36m<module>\u001b[0;34m()\u001b[0m\n\u001b[0;32m----> 1\u001b[0;31m \u001b[0mfetch_github_data\u001b[0m\u001b[0;34m(\u001b[0m\u001b[0;34m'/users/aschn'\u001b[0m\u001b[0;34m,\u001b[0m \u001b[0mmethod\u001b[0m\u001b[0;34m=\u001b[0m\u001b[0;34m'get'\u001b[0m\u001b[0;34m)\u001b[0m\u001b[0;34m\u001b[0m\u001b[0m\n\u001b[0m",
        "\u001b[0;31mNameError\u001b[0m: name 'fetch_github_data' is not defined"
       ]
      }
     ],
     "prompt_number": 2
    }
   ],
   "metadata": {}
  }
 ]
}