{
 "metadata": {
  "name": "",
  "signature": "sha256:8425d98b8e2fef2ae31cfc46a8618bfbd6f99fad68103cc7267727ecc8760e1e"
 },
 "nbformat": 3,
 "nbformat_minor": 0,
 "worksheets": [
  {
   "cells": [
    {
     "cell_type": "markdown",
     "metadata": {},
     "source": [
      "# Outline\n",
      "1. HTTP overview\n",
      "2. Simple examples\n",
      "3. Status codes\n",
      "4. Pagination\n",
      "5. Authentication\n",
      "6. Throttling\n",
      "\n",
      "We'll use the GitHub API as an example. Here are the [docs](https://developer.github.com/v3/)."
     ]
    },
    {
     "cell_type": "markdown",
     "metadata": {},
     "source": [
      "## Tools\n",
      "* shell: ```curl```, ```wget```\n",
      "* python: ```requests```. [Requests](http://docs.python-requests.org/) is amazing.\n",
      "* for testing: http://requestb.in/"
     ]
    },
    {
     "cell_type": "code",
     "collapsed": false,
     "input": [
      "import requests"
     ],
     "language": "python",
     "metadata": {},
     "outputs": [],
     "prompt_number": 1
    },
    {
     "cell_type": "markdown",
     "metadata": {},
     "source": [
      "## What are HTTP requests and responses?\n",
      "\n",
      "An HTTP request is a message formatted like so (see http://requestb.in/):\n",
      "\n",
      "    [method] [url] [http version]\n",
      "    Header1: value1\n",
      "    Header2: value2\n",
      "    \n",
      "    request content\n",
      "\n",
      "An HTTP response is a message formatted like so:\n",
      "\n",
      "    [method] [status code]\n",
      "    Header1: value1\n",
      "    Header2: value2\n",
      "    \n",
      "    response content\n"
     ]
    },
    {
     "cell_type": "markdown",
     "metadata": {},
     "source": [
      "## What is REST?\n",
      "\n",
      "APIs where HTTP methods correspond to database CRUD operations are \"RESTful\".\n",
      "\n",
      "| HTTP name | CRUD name | what it does |\n",
      "|-----------|-----------|--------------|\n",
      "| POST | Create | add new data |\n",
      "| GET | Retrieve | get existing data |\n",
      "| PUT | Update | edit existing data |\n",
      "| DELETE | Delete | remove existing data |\n",
      "\n",
      "GET is what your web browser does by default."
     ]
    },
    {
     "cell_type": "markdown",
     "metadata": {},
     "source": [
      "## Examples: httpbin.org"
     ]
    },
    {
     "cell_type": "code",
     "collapsed": false,
     "input": [
      "# to specify query parameters for retrieving data, use GET params\n",
      "response = requests.get('http://httpbin.org/get', params={'a': 1, 'b': 2})\n",
      "print 'url has query params:', response.url"
     ],
     "language": "python",
     "metadata": {},
     "outputs": [
      {
       "output_type": "stream",
       "stream": "stdout",
       "text": [
        "url has query params: http://httpbin.org/get?a=1&b=2\n"
       ]
      }
     ],
     "prompt_number": 2
    },
    {
     "cell_type": "code",
     "collapsed": false,
     "input": [
      "# to specify data to create, use POST data payload\n",
      "payload = {'a': 1, 'b': 2}\n",
      "\n",
      "# can post a dictionary as a form\n",
      "response1 = requests.post('http://httpbin.org/post', data=payload)\n",
      "print 'url has no params:', response1.url\n",
      "print 'data dict is in a form:', response1.json()['form']\n",
      "\n",
      "# or can post a JSON-encoded string as raw data\n",
      "import json\n",
      "response2 = requests.post('http://httpbin.org/post', data=json.dumps(payload))\n",
      "print 'data string is in data:', response2.json()['data']"
     ],
     "language": "python",
     "metadata": {},
     "outputs": [
      {
       "output_type": "stream",
       "stream": "stdout",
       "text": [
        "url has no params: http://httpbin.org/post\n",
        "data dict is in a form: {u'a': u'1', u'b': u'2'}\n",
        "data string is in data:"
       ]
      },
      {
       "output_type": "stream",
       "stream": "stdout",
       "text": [
        " {\"a\": 1, \"b\": 2}\n"
       ]
      }
     ],
     "prompt_number": 3
    },
    {
     "cell_type": "markdown",
     "metadata": {},
     "source": [
      "## Examples: GitHub API"
     ]
    },
    {
     "cell_type": "code",
     "collapsed": false,
     "input": [
      "# make a request to see my public repos\n",
      "response = requests.get('https://api.github.com/orgs/bgrid/repos', params={'type': 'public'})\n",
      "\n",
      "# response content is always available as text string\n",
      "print 'text is type %s' % type(response.text)\n",
      "\n",
      "# response content may be available as JSON dict\n",
      "print 'json is type %s' % type(response.json())\n",
      "\n",
      "print response.json()"
     ],
     "language": "python",
     "metadata": {},
     "outputs": [
      {
       "output_type": "stream",
       "stream": "stdout",
       "text": [
        "text is type <type 'unicode'>\n",
        "json is type <type 'list'>\n",
        "[{u'issues_url': u'https://api.github.com/repos/bgrid/Python-Crawler/issues{/number}', u'stargazers_count': 0, u'forks_url': u'https://api.github.com/repos/bgrid/Python-Crawler/forks', u'mirror_url': None, u'subscription_url': u'https://api.github.com/repos/bgrid/Python-Crawler/subscription', u'notifications_url': u'https://api.github.com/repos/bgrid/Python-Crawler/notifications{?since,all,participating}', u'collaborators_url': u'https://api.github.com/repos/bgrid/Python-Crawler/collaborators{/collaborator}', u'updated_at': u'2015-02-18T00:02:10Z', u'private': False, u'pulls_url': u'https://api.github.com/repos/bgrid/Python-Crawler/pulls{/number}', u'issue_comment_url': u'https://api.github.com/repos/bgrid/Python-Crawler/issues/comments{/number}', u'labels_url': u'https://api.github.com/repos/bgrid/Python-Crawler/labels{/name}', u'has_wiki': True, u'full_name': u'bgrid/Python-Crawler', u'owner': {u'following_url': u'https://api.github.com/users/bgrid/following{/other_user}', u'events_url': u'https://api.github.com/users/bgrid/events{/privacy}', u'organizations_url': u'https://api.github.com/users/bgrid/orgs', u'url': u'https://api.github.com/users/bgrid', u'gists_url': u'https://api.github.com/users/bgrid/gists{/gist_id}', u'html_url': u'https://github.com/bgrid', u'subscriptions_url': u'https://api.github.com/users/bgrid/subscriptions', u'avatar_url': u'https://avatars.githubusercontent.com/u/10950798?v=3', u'repos_url': u'https://api.github.com/users/bgrid/repos', u'received_events_url': u'https://api.github.com/users/bgrid/received_events', u'gravatar_id': u'', u'starred_url': u'https://api.github.com/users/bgrid/starred{/owner}{/repo}', u'site_admin': False, u'login': u'bgrid', u'type': u'Organization', u'id': 10950798, u'followers_url': u'https://api.github.com/users/bgrid/followers'}, u'statuses_url': u'https://api.github.com/repos/bgrid/Python-Crawler/statuses/{sha}', u'id': 30944601, u'keys_url': u'https://api.github.com/repos/bgrid/Python-Crawler/keys{/key_id}', u'description': u'Hooks for accessing the dGrid database using Python', u'tags_url': u'https://api.github.com/repos/bgrid/Python-Crawler/tags', u'downloads_url': u'https://api.github.com/repos/bgrid/Python-Crawler/downloads', u'assignees_url': u'https://api.github.com/repos/bgrid/Python-Crawler/assignees{/user}', u'contents_url': u'https://api.github.com/repos/bgrid/Python-Crawler/contents/{+path}', u'has_pages': False, u'git_refs_url': u'https://api.github.com/repos/bgrid/Python-Crawler/git/refs{/sha}', u'open_issues_count': 0, u'clone_url': u'https://github.com/bgrid/Python-Crawler.git', u'watchers_count': 0, u'git_tags_url': u'https://api.github.com/repos/bgrid/Python-Crawler/git/tags{/sha}', u'milestones_url': u'https://api.github.com/repos/bgrid/Python-Crawler/milestones{/number}', u'languages_url': u'https://api.github.com/repos/bgrid/Python-Crawler/languages', u'size': 152, u'homepage': None, u'fork': False, u'commits_url': u'https://api.github.com/repos/bgrid/Python-Crawler/commits{/sha}', u'releases_url': u'https://api.github.com/repos/bgrid/Python-Crawler/releases{/id}', u'issue_events_url': u'https://api.github.com/repos/bgrid/Python-Crawler/issues/events{/number}', u'archive_url': u'https://api.github.com/repos/bgrid/Python-Crawler/{archive_format}{/ref}', u'comments_url': u'https://api.github.com/repos/bgrid/Python-Crawler/comments{/number}', u'events_url': u'https://api.github.com/repos/bgrid/Python-Crawler/events', u'contributors_url': u'https://api.github.com/repos/bgrid/Python-Crawler/contributors', u'html_url': u'https://github.com/bgrid/Python-Crawler', u'forks': 0, u'compare_url': u'https://api.github.com/repos/bgrid/Python-Crawler/compare/{base}...{head}', u'open_issues': 0, u'git_url': u'git://github.com/bgrid/Python-Crawler.git', u'svn_url': u'https://github.com/bgrid/Python-Crawler', u'merges_url': u'https://api.github.com/repos/bgrid/Python-Crawler/merges', u'has_issues': True, u'ssh_url': u'git@github.com:bgrid/Python-Crawler.git', u'blobs_url': u'https://api.github.com/repos/bgrid/Python-Crawler/git/blobs{/sha}', u'git_commits_url': u'https://api.github.com/repos/bgrid/Python-Crawler/git/commits{/sha}', u'hooks_url': u'https://api.github.com/repos/bgrid/Python-Crawler/hooks', u'has_downloads': True, u'watchers': 0, u'name': u'Python-Crawler', u'language': None, u'url': u'https://api.github.com/repos/bgrid/Python-Crawler', u'created_at': u'2015-02-18T00:02:10Z', u'pushed_at': u'2015-03-03T19:49:09Z', u'forks_count': 0, u'default_branch': u'master', u'teams_url': u'https://api.github.com/repos/bgrid/Python-Crawler/teams', u'trees_url': u'https://api.github.com/repos/bgrid/Python-Crawler/git/trees{/sha}', u'branches_url': u'https://api.github.com/repos/bgrid/Python-Crawler/branches{/branch}', u'subscribers_url': u'https://api.github.com/repos/bgrid/Python-Crawler/subscribers', u'permissions': {u'admin': False, u'push': False, u'pull': True}, u'stargazers_url': u'https://api.github.com/repos/bgrid/Python-Crawler/stargazers'}, {u'issues_url': u'https://api.github.com/repos/bgrid/bGridDatabaseTools/issues{/number}', u'stargazers_count': 0, u'forks_url': u'https://api.github.com/repos/bgrid/bGridDatabaseTools/forks', u'mirror_url': None, u'subscription_url': u'https://api.github.com/repos/bgrid/bGridDatabaseTools/subscription', u'notifications_url': u'https://api.github.com/repos/bgrid/bGridDatabaseTools/notifications{?since,all,participating}', u'collaborators_url': u'https://api.github.com/repos/bgrid/bGridDatabaseTools/collaborators{/collaborator}', u'updated_at': u'2015-03-04T04:02:21Z', u'private': False, u'pulls_url': u'https://api.github.com/repos/bgrid/bGridDatabaseTools/pulls{/number}', u'issue_comment_url': u'https://api.github.com/repos/bgrid/bGridDatabaseTools/issues/comments{/number}', u'labels_url': u'https://api.github.com/repos/bgrid/bGridDatabaseTools/labels{/name}', u'has_wiki': True, u'full_name': u'bgrid/bGridDatabaseTools', u'owner': {u'following_url': u'https://api.github.com/users/bgrid/following{/other_user}', u'events_url': u'https://api.github.com/users/bgrid/events{/privacy}', u'organizations_url': u'https://api.github.com/users/bgrid/orgs', u'url': u'https://api.github.com/users/bgrid', u'gists_url': u'https://api.github.com/users/bgrid/gists{/gist_id}', u'html_url': u'https://github.com/bgrid', u'subscriptions_url': u'https://api.github.com/users/bgrid/subscriptions', u'avatar_url': u'https://avatars.githubusercontent.com/u/10950798?v=3', u'repos_url': u'https://api.github.com/users/bgrid/repos', u'received_events_url': u'https://api.github.com/users/bgrid/received_events', u'gravatar_id': u'', u'starred_url': u'https://api.github.com/users/bgrid/starred{/owner}{/repo}', u'site_admin': False, u'login': u'bgrid', u'type': u'Organization', u'id': 10950798, u'followers_url': u'https://api.github.com/users/bgrid/followers'}, u'statuses_url': u'https://api.github.com/repos/bgrid/bGridDatabaseTools/statuses/{sha}', u'id': 31380484, u'keys_url': u'https://api.github.com/repos/bgrid/bGridDatabaseTools/keys{/key_id}', u'description': u'Common tools for creating databases, loading and unloading data, connecting from different platforms', u'tags_url': u'https://api.github.com/repos/bgrid/bGridDatabaseTools/tags', u'downloads_url': u'https://api.github.com/repos/bgrid/bGridDatabaseTools/downloads', u'assignees_url': u'https://api.github.com/repos/bgrid/bGridDatabaseTools/assignees{/user}', u'contents_url': u'https://api.github.com/repos/bgrid/bGridDatabaseTools/contents/{+path}', u'has_pages': False, u'git_refs_url': u'https://api.github.com/repos/bgrid/bGridDatabaseTools/git/refs{/sha}', u'open_issues_count': 0, u'clone_url': u'https://github.com/bgrid/bGridDatabaseTools.git', u'watchers_count': 0, u'git_tags_url': u'https://api.github.com/repos/bgrid/bGridDatabaseTools/git/tags{/sha}', u'milestones_url': u'https://api.github.com/repos/bgrid/bGridDatabaseTools/milestones{/number}', u'languages_url': u'https://api.github.com/repos/bgrid/bGridDatabaseTools/languages', u'size': 0, u'homepage': None, u'fork': False, u'commits_url': u'https://api.github.com/repos/bgrid/bGridDatabaseTools/commits{/sha}', u'releases_url': u'https://api.github.com/repos/bgrid/bGridDatabaseTools/releases{/id}', u'issue_events_url': u'https://api.github.com/repos/bgrid/bGridDatabaseTools/issues/events{/number}', u'archive_url': u'https://api.github.com/repos/bgrid/bGridDatabaseTools/{archive_format}{/ref}', u'comments_url': u'https://api.github.com/repos/bgrid/bGridDatabaseTools/comments{/number}', u'events_url': u'https://api.github.com/repos/bgrid/bGridDatabaseTools/events', u'contributors_url': u'https://api.github.com/repos/bgrid/bGridDatabaseTools/contributors', u'html_url': u'https://github.com/bgrid/bGridDatabaseTools', u'forks': 0, u'compare_url': u'https://api.github.com/repos/bgrid/bGridDatabaseTools/compare/{base}...{head}', u'open_issues': 0, u'git_url': u'git://github.com/bgrid/bGridDatabaseTools.git', u'svn_url': u'https://github.com/bgrid/bGridDatabaseTools', u'merges_url': u'https://api.github.com/repos/bgrid/bGridDatabaseTools/merges', u'has_issues': True, u'ssh_url': u'git@github.com:bgrid/bGridDatabaseTools.git', u'blobs_url': u'https://api.github.com/repos/bgrid/bGridDatabaseTools/git/blobs{/sha}', u'git_commits_url': u'https://api.github.com/repos/bgrid/bGridDatabaseTools/git/commits{/sha}', u'hooks_url': u'https://api.github.com/repos/bgrid/bGridDatabaseTools/hooks', u'has_downloads': True, u'watchers': 0, u'name': u'bGridDatabaseTools', u'language': u'R', u'url': u'https://api.github.com/repos/bgrid/bGridDatabaseTools', u'created_at': u'2015-02-26T17:55:46Z', u'pushed_at': u'2015-03-04T04:02:21Z', u'forks_count': 0, u'default_branch': u'master', u'teams_url': u'https://api.github.com/repos/bgrid/bGridDatabaseTools/teams', u'trees_url': u'https://api.github.com/repos/bgrid/bGridDatabaseTools/git/trees{/sha}', u'branches_url': u'https://api.github.com/repos/bgrid/bGridDatabaseTools/branches{/branch}', u'subscribers_url': u'https://api.github.com/repos/bgrid/bGridDatabaseTools/subscribers', u'permissions': {u'admin': False, u'push': False, u'pull': True}, u'stargazers_url': u'https://api.github.com/repos/bgrid/bGridDatabaseTools/stargazers'}]\n"
       ]
      }
     ],
     "prompt_number": 4
    },
    {
     "cell_type": "markdown",
     "metadata": {},
     "source": [
      "## Did it work?\n",
      "Check the [status code](http://en.wikipedia.org/wiki/List_of_HTTP_status_codes)."
     ]
    },
    {
     "cell_type": "code",
     "collapsed": false,
     "input": [
      "# status 200 OK\n",
      "response = requests.get('http://github.com/aschn/cleanweb-api-tutorial')\n",
      "print 'yes it worked:', response.status_code"
     ],
     "language": "python",
     "metadata": {},
     "outputs": [
      {
       "output_type": "stream",
       "stream": "stdout",
       "text": [
        "yes it worked: 200\n"
       ]
      }
     ],
     "prompt_number": 5
    },
    {
     "cell_type": "code",
     "collapsed": false,
     "input": [
      "# status 404 Not Found\n",
      "response = requests.get('http://github.com/aschn/notarepo')\n",
      "print 'no it failed:', response.status_code"
     ],
     "language": "python",
     "metadata": {},
     "outputs": [
      {
       "output_type": "stream",
       "stream": "stdout",
       "text": [
        "no it failed: 404\n"
       ]
      }
     ],
     "prompt_number": 6
    },
    {
     "cell_type": "code",
     "collapsed": false,
     "input": [
      "from urlparse import urljoin\n",
      "\n",
      "# a simple wrapper method for the GitHub API\n",
      "def make_github_request(endpoint, method='get', base_url='https://api.github.com', **kwargs):\n",
      "    \"\"\"\n",
      "    By default makes a GET request to https://api.github.com/endpoint,\n",
      "    passing any kwargs to requests.\n",
      "    Returns the JSON-decoded response content.\n",
      "    \"\"\"\n",
      "    # assemble url\n",
      "    url = urljoin(base_url, endpoint)\n",
      "    \n",
      "    # choose request method\n",
      "    try:\n",
      "        requester = getattr(requests, method.lower())\n",
      "    except AttributeError:\n",
      "        raise ValueError('%s is not a HTTP method' % method)\n",
      "    \n",
      "    # make request\n",
      "    response = requester(url, **kwargs)\n",
      "    \n",
      "    # return response JSON\n",
      "    return response.json()\n",
      "\n",
      "make_github_request('/users/aschn')"
     ],
     "language": "python",
     "metadata": {},
     "outputs": [
      {
       "metadata": {},
       "output_type": "pyout",
       "prompt_number": 8,
       "text": [
        "{u'avatar_url': u'https://avatars.githubusercontent.com/u/3664000?v=3',\n",
        " u'bio': None,\n",
        " u'blog': u'http://annaschneider.org/',\n",
        " u'company': None,\n",
        " u'created_at': u'2013-02-21T22:37:00Z',\n",
        " u'email': None,\n",
        " u'events_url': u'https://api.github.com/users/aschn/events{/privacy}',\n",
        " u'followers': 9,\n",
        " u'followers_url': u'https://api.github.com/users/aschn/followers',\n",
        " u'following': 6,\n",
        " u'following_url': u'https://api.github.com/users/aschn/following{/other_user}',\n",
        " u'gists_url': u'https://api.github.com/users/aschn/gists{/gist_id}',\n",
        " u'gravatar_id': u'',\n",
        " u'hireable': False,\n",
        " u'html_url': u'https://github.com/aschn',\n",
        " u'id': 3664000,\n",
        " u'location': u'SF Bay Area',\n",
        " u'login': u'aschn',\n",
        " u'name': u'Anna Schneider',\n",
        " u'organizations_url': u'https://api.github.com/users/aschn/orgs',\n",
        " u'public_gists': 1,\n",
        " u'public_repos': 9,\n",
        " u'received_events_url': u'https://api.github.com/users/aschn/received_events',\n",
        " u'repos_url': u'https://api.github.com/users/aschn/repos',\n",
        " u'site_admin': False,\n",
        " u'starred_url': u'https://api.github.com/users/aschn/starred{/owner}{/repo}',\n",
        " u'subscriptions_url': u'https://api.github.com/users/aschn/subscriptions',\n",
        " u'type': u'User',\n",
        " u'updated_at': u'2015-03-04T04:51:57Z',\n",
        " u'url': u'https://api.github.com/users/aschn'}"
       ]
      }
     ],
     "prompt_number": 8
    },
    {
     "cell_type": "markdown",
     "metadata": {},
     "source": [
      "## Pagination\n",
      "\n",
      "Many APIs won't give you all the data you ask for at once. Just like Google results have \"next\" and \"previous\" buttons at the bottom, APIs will often have \"next\" and \"previous\" parameters in the response content or headers if there is more data to be had."
     ]
    },
    {
     "cell_type": "code",
     "collapsed": false,
     "input": [
      "response = requests.get('https://api.github.com/users/aschn/repos', params={'per_page': 3})\n",
      "print 'number of repos returned:', len(response.json())\n",
      "\n",
      "print response.headers['link']\n",
      "links = response.headers['link'].split(',')\n",
      "\n",
      "for linkrel in links:\n",
      "    ugly_link, rel = linkrel.split(';')\n",
      "    if 'next' in rel:\n",
      "        link = ugly_link.lstrip('<').rstrip('>')\n",
      "        print 'next link is', link"
     ],
     "language": "python",
     "metadata": {},
     "outputs": [
      {
       "output_type": "stream",
       "stream": "stdout",
       "text": [
        "number of repos returned: 3\n",
        "<https://api.github.com/user/3664000/repos?per_page=3&page=2>; rel=\"next\", <https://api.github.com/user/3664000/repos?per_page=3&page=3>; rel=\"last\"\n",
        "next link is https://api.github.com/user/3664000/repos?per_page=3&page=2\n"
       ]
      }
     ],
     "prompt_number": 57
    },
    {
     "cell_type": "markdown",
     "metadata": {},
     "source": [
      "## Authentication\n",
      "\n",
      "Many APIs require you to authenticate to be able to view some or all of the content. There are a few main types of authentication:\n",
      "* HTTP Basic Auth (username and password)\n",
      "* Token in header\n",
      "* OAuth\n",
      "\n",
      "We'll go through the first two of these. OAuth is super important too, use the [requests-oauthlib](https://requests-oauthlib.readthedocs.org/) package if needed."
     ]
    },
    {
     "cell_type": "markdown",
     "metadata": {},
     "source": [
      "## Security note\n",
      "\n",
      "**Never store any authentication credentials in a publicly version-controlled file, e.g., this one!** Ideally, never store authentication credentials in a file at all. I like to keep them in shell environment variables."
     ]
    },
    {
     "cell_type": "code",
     "collapsed": false,
     "input": [
      "# on the command line:\n",
      "# export GITHUB_USERNAME=aschn\n",
      "\n",
      "# get credentials from environment variables\n",
      "from os import environ\n",
      "GITHUB_USERNAME = environ.get('GITHUB_USERNAME')\n",
      "GITHUB_PASSWORD = environ.get('GITHUB_PASSWORD')\n",
      "GITHUB_TOKEN = environ.get('GITHUB_TOKEN')\n",
      "print GITHUB_USERNAME"
     ],
     "language": "python",
     "metadata": {},
     "outputs": [
      {
       "output_type": "stream",
       "stream": "stdout",
       "text": [
        "aschn\n"
       ]
      }
     ],
     "prompt_number": 9
    },
    {
     "cell_type": "code",
     "collapsed": false,
     "input": [
      "# authentication error status: 401 Unauthorized\n",
      "response = requests.get('https://api.github.com/user')\n",
      "print response.status_code\n",
      "print response.json()"
     ],
     "language": "python",
     "metadata": {},
     "outputs": [
      {
       "output_type": "stream",
       "stream": "stdout",
       "text": [
        "401\n",
        "{u'documentation_url': u'https://developer.github.com/v3', u'message': u'Requires authentication'}\n"
       ]
      }
     ],
     "prompt_number": 10
    },
    {
     "cell_type": "code",
     "collapsed": false,
     "input": [
      "# HTTP basic auth with wrong credentials\n",
      "response = requests.get('https://api.github.com/user', auth=(GITHUB_USERNAME, 'bad password'))\n",
      "print response.status_code\n",
      "print response.json()"
     ],
     "language": "python",
     "metadata": {},
     "outputs": [
      {
       "output_type": "stream",
       "stream": "stdout",
       "text": [
        "401\n",
        "{u'documentation_url': u'https://developer.github.com/v3', u'message': u'Bad credentials'}\n"
       ]
      }
     ],
     "prompt_number": 11
    },
    {
     "cell_type": "code",
     "collapsed": false,
     "input": [
      "# HTTP basic auth with right credentials\n",
      "response = requests.get('https://api.github.com/user', auth=(GITHUB_USERNAME, GITHUB_PASSWORD))\n",
      "print response.status_code"
     ],
     "language": "python",
     "metadata": {},
     "outputs": [
      {
       "output_type": "stream",
       "stream": "stdout",
       "text": [
        "200\n"
       ]
      }
     ],
     "prompt_number": 12
    },
    {
     "cell_type": "code",
     "collapsed": false,
     "input": [
      "# Token in header\n",
      "# create this token at https://github.com/settings/applications#personal-access-tokens\n",
      "headers = {'Authorization': 'token %s' % GITHUB_TOKEN}\n",
      "response = requests.get('https://api.github.com/user', headers=headers)\n",
      "print response.status_code"
     ],
     "language": "python",
     "metadata": {},
     "outputs": [
      {
       "output_type": "stream",
       "stream": "stdout",
       "text": [
        "200\n"
       ]
      }
     ],
     "prompt_number": 15
    },
    {
     "cell_type": "code",
     "collapsed": false,
     "input": [
      "from urlparse import urljoin\n",
      "\n",
      "# a wrapper method for the GitHub API with authentication\n",
      "def make_github_request(endpoint, method='get', base_url='https://api.github.com',\n",
      "                        username=None, password=None,\n",
      "                        **kwargs):\n",
      "    \"\"\"\n",
      "    By default makes a GET request to https://api.github.com/endpoint,\n",
      "    passing any kwargs to requests.\n",
      "    Attempts to authenticate if given a username and password.\n",
      "    Returns the JSON-decoded response content.\n",
      "    \"\"\"\n",
      "    # assemble url\n",
      "    url = urljoin(base_url, endpoint)\n",
      "    \n",
      "    # choose request method\n",
      "    try:\n",
      "        requester = getattr(requests, method.lower())\n",
      "    except AttributeError:\n",
      "        raise ValueError('%s is not a HTTP method' % method)\n",
      "    \n",
      "    # make request\n",
      "    if username and password:\n",
      "        response = requester(url, auth=(username, password), **kwargs)\n",
      "    else:\n",
      "        response = requester(url, **kwargs)\n",
      "        \n",
      "    # check response status for authentication error\n",
      "    if response.status_code == 401:\n",
      "        raise ValueError('Authentication error: %s' % response.json()['message'])\n",
      "    \n",
      "    # return response JSON\n",
      "    return response.json()\n",
      "\n",
      "make_github_request('user', username=GITHUB_USERNAME, password=GITHUB_PASSWORD)"
     ],
     "language": "python",
     "metadata": {},
     "outputs": [
      {
       "metadata": {},
       "output_type": "pyout",
       "prompt_number": 25,
       "text": [
        "{u'avatar_url': u'https://avatars.githubusercontent.com/u/3664000?v=3',\n",
        " u'bio': None,\n",
        " u'blog': u'http://annaschneider.org/',\n",
        " u'collaborators': 5,\n",
        " u'company': None,\n",
        " u'created_at': u'2013-02-21T22:37:00Z',\n",
        " u'disk_usage': 3357,\n",
        " u'email': None,\n",
        " u'events_url': u'https://api.github.com/users/aschn/events{/privacy}',\n",
        " u'followers': 9,\n",
        " u'followers_url': u'https://api.github.com/users/aschn/followers',\n",
        " u'following': 6,\n",
        " u'following_url': u'https://api.github.com/users/aschn/following{/other_user}',\n",
        " u'gists_url': u'https://api.github.com/users/aschn/gists{/gist_id}',\n",
        " u'gravatar_id': u'',\n",
        " u'hireable': False,\n",
        " u'html_url': u'https://github.com/aschn',\n",
        " u'id': 3664000,\n",
        " u'location': u'SF Bay Area',\n",
        " u'login': u'aschn',\n",
        " u'name': u'Anna Schneider',\n",
        " u'organizations_url': u'https://api.github.com/users/aschn/orgs',\n",
        " u'owned_private_repos': 2,\n",
        " u'plan': {u'collaborators': 0,\n",
        "  u'name': u'micro',\n",
        "  u'private_repos': 5,\n",
        "  u'space': 614400},\n",
        " u'private_gists': 0,\n",
        " u'public_gists': 1,\n",
        " u'public_repos': 9,\n",
        " u'received_events_url': u'https://api.github.com/users/aschn/received_events',\n",
        " u'repos_url': u'https://api.github.com/users/aschn/repos',\n",
        " u'site_admin': False,\n",
        " u'starred_url': u'https://api.github.com/users/aschn/starred{/owner}{/repo}',\n",
        " u'subscriptions_url': u'https://api.github.com/users/aschn/subscriptions',\n",
        " u'total_private_repos': 2,\n",
        " u'type': u'User',\n",
        " u'updated_at': u'2015-03-04T04:51:57Z',\n",
        " u'url': u'https://api.github.com/users/aschn'}"
       ]
      }
     ],
     "prompt_number": 25
    },
    {
     "cell_type": "markdown",
     "metadata": {},
     "source": [
      "## Throttling\n",
      "\n",
      "Many APIs will limit how many requests you can make in a given time period. This is called throttling. Throttling can vary by endpoints within an API."
     ]
    },
    {
     "cell_type": "code",
     "collapsed": false,
     "input": [
      "# throttling error status: 403 Forbidden, or 429 Too Many Requests\n",
      "for i in range(60):\n",
      "    response = requests.get('https://api.github.com/users/aschn')\n",
      "    if i%10 == 0:\n",
      "        print i, response.status_code\n",
      "    elif response.status_code != 200:\n",
      "        print i, response.status_code, response.text"
     ],
     "language": "python",
     "metadata": {},
     "outputs": [
      {
       "output_type": "stream",
       "stream": "stdout",
       "text": [
        "0 200\n",
        "10"
       ]
      },
      {
       "output_type": "stream",
       "stream": "stdout",
       "text": [
        " 200\n",
        "20"
       ]
      },
      {
       "output_type": "stream",
       "stream": "stdout",
       "text": [
        " 200\n",
        "30"
       ]
      },
      {
       "output_type": "stream",
       "stream": "stdout",
       "text": [
        " 403\n",
        "31"
       ]
      },
      {
       "output_type": "stream",
       "stream": "stdout",
       "text": [
        " 403 {\"message\":\"API rate limit exceeded for 67.164.41.171. (But here's the good news: Authenticated requests get a higher rate limit. Check out the documentation for more details.)\",\"documentation_url\":\"https://developer.github.com/v3/#rate-limiting\"}\n",
        "32"
       ]
      },
      {
       "output_type": "stream",
       "stream": "stdout",
       "text": [
        " 403 {\"message\":\"API rate limit exceeded for 67.164.41.171. (But here's the good news: Authenticated requests get a higher rate limit. Check out the documentation for more details.)\",\"documentation_url\":\"https://developer.github.com/v3/#rate-limiting\"}\n",
        "33"
       ]
      },
      {
       "output_type": "stream",
       "stream": "stdout",
       "text": [
        " 403 {\"message\":\"API rate limit exceeded for 67.164.41.171. (But here's the good news: Authenticated requests get a higher rate limit. Check out the documentation for more details.)\",\"documentation_url\":\"https://developer.github.com/v3/#rate-limiting\"}\n",
        "34"
       ]
      },
      {
       "output_type": "stream",
       "stream": "stdout",
       "text": [
        " 403 {\"message\":\"API rate limit exceeded for 67.164.41.171. (But here's the good news: Authenticated requests get a higher rate limit. Check out the documentation for more details.)\",\"documentation_url\":\"https://developer.github.com/v3/#rate-limiting\"}\n",
        "35"
       ]
      },
      {
       "output_type": "stream",
       "stream": "stdout",
       "text": [
        " 403 {\"message\":\"API rate limit exceeded for 67.164.41.171. (But here's the good news: Authenticated requests get a higher rate limit. Check out the documentation for more details.)\",\"documentation_url\":\"https://developer.github.com/v3/#rate-limiting\"}\n",
        "36"
       ]
      },
      {
       "output_type": "stream",
       "stream": "stdout",
       "text": [
        " 403 {\"message\":\"API rate limit exceeded for 67.164.41.171. (But here's the good news: Authenticated requests get a higher rate limit. Check out the documentation for more details.)\",\"documentation_url\":\"https://developer.github.com/v3/#rate-limiting\"}\n",
        "37"
       ]
      },
      {
       "output_type": "stream",
       "stream": "stdout",
       "text": [
        " 403 {\"message\":\"API rate limit exceeded for 67.164.41.171. (But here's the good news: Authenticated requests get a higher rate limit. Check out the documentation for more details.)\",\"documentation_url\":\"https://developer.github.com/v3/#rate-limiting\"}\n",
        "38"
       ]
      },
      {
       "output_type": "stream",
       "stream": "stdout",
       "text": [
        " 403 {\"message\":\"API rate limit exceeded for 67.164.41.171. (But here's the good news: Authenticated requests get a higher rate limit. Check out the documentation for more details.)\",\"documentation_url\":\"https://developer.github.com/v3/#rate-limiting\"}\n",
        "39"
       ]
      },
      {
       "output_type": "stream",
       "stream": "stdout",
       "text": [
        " 403 {\"message\":\"API rate limit exceeded for 67.164.41.171. (But here's the good news: Authenticated requests get a higher rate limit. Check out the documentation for more details.)\",\"documentation_url\":\"https://developer.github.com/v3/#rate-limiting\"}\n",
        "40"
       ]
      },
      {
       "output_type": "stream",
       "stream": "stdout",
       "text": [
        " 403\n",
        "41"
       ]
      },
      {
       "output_type": "stream",
       "stream": "stdout",
       "text": [
        " 403 {\"message\":\"API rate limit exceeded for 67.164.41.171. (But here's the good news: Authenticated requests get a higher rate limit. Check out the documentation for more details.)\",\"documentation_url\":\"https://developer.github.com/v3/#rate-limiting\"}\n",
        "42"
       ]
      },
      {
       "output_type": "stream",
       "stream": "stdout",
       "text": [
        " 403 {\"message\":\"API rate limit exceeded for 67.164.41.171. (But here's the good news: Authenticated requests get a higher rate limit. Check out the documentation for more details.)\",\"documentation_url\":\"https://developer.github.com/v3/#rate-limiting\"}\n",
        "43"
       ]
      },
      {
       "output_type": "stream",
       "stream": "stdout",
       "text": [
        " 403 {\"message\":\"API rate limit exceeded for 67.164.41.171. (But here's the good news: Authenticated requests get a higher rate limit. Check out the documentation for more details.)\",\"documentation_url\":\"https://developer.github.com/v3/#rate-limiting\"}\n",
        "44"
       ]
      },
      {
       "output_type": "stream",
       "stream": "stdout",
       "text": [
        " 403 {\"message\":\"API rate limit exceeded for 67.164.41.171. (But here's the good news: Authenticated requests get a higher rate limit. Check out the documentation for more details.)\",\"documentation_url\":\"https://developer.github.com/v3/#rate-limiting\"}\n",
        "45"
       ]
      },
      {
       "output_type": "stream",
       "stream": "stdout",
       "text": [
        " 403 {\"message\":\"API rate limit exceeded for 67.164.41.171. (But here's the good news: Authenticated requests get a higher rate limit. Check out the documentation for more details.)\",\"documentation_url\":\"https://developer.github.com/v3/#rate-limiting\"}\n",
        "46"
       ]
      },
      {
       "output_type": "stream",
       "stream": "stdout",
       "text": [
        " 403 {\"message\":\"API rate limit exceeded for 67.164.41.171. (But here's the good news: Authenticated requests get a higher rate limit. Check out the documentation for more details.)\",\"documentation_url\":\"https://developer.github.com/v3/#rate-limiting\"}\n",
        "47"
       ]
      },
      {
       "output_type": "stream",
       "stream": "stdout",
       "text": [
        " 403 {\"message\":\"API rate limit exceeded for 67.164.41.171. (But here's the good news: Authenticated requests get a higher rate limit. Check out the documentation for more details.)\",\"documentation_url\":\"https://developer.github.com/v3/#rate-limiting\"}\n",
        "48"
       ]
      },
      {
       "output_type": "stream",
       "stream": "stdout",
       "text": [
        " 403 {\"message\":\"API rate limit exceeded for 67.164.41.171. (But here's the good news: Authenticated requests get a higher rate limit. Check out the documentation for more details.)\",\"documentation_url\":\"https://developer.github.com/v3/#rate-limiting\"}\n",
        "49"
       ]
      },
      {
       "output_type": "stream",
       "stream": "stdout",
       "text": [
        " 403 {\"message\":\"API rate limit exceeded for 67.164.41.171. (But here's the good news: Authenticated requests get a higher rate limit. Check out the documentation for more details.)\",\"documentation_url\":\"https://developer.github.com/v3/#rate-limiting\"}\n",
        "50"
       ]
      },
      {
       "output_type": "stream",
       "stream": "stdout",
       "text": [
        " 403\n",
        "51"
       ]
      },
      {
       "output_type": "stream",
       "stream": "stdout",
       "text": [
        " 403 {\"message\":\"API rate limit exceeded for 67.164.41.171. (But here's the good news: Authenticated requests get a higher rate limit. Check out the documentation for more details.)\",\"documentation_url\":\"https://developer.github.com/v3/#rate-limiting\"}\n",
        "52"
       ]
      },
      {
       "output_type": "stream",
       "stream": "stdout",
       "text": [
        " 403 {\"message\":\"API rate limit exceeded for 67.164.41.171. (But here's the good news: Authenticated requests get a higher rate limit. Check out the documentation for more details.)\",\"documentation_url\":\"https://developer.github.com/v3/#rate-limiting\"}\n",
        "53"
       ]
      },
      {
       "output_type": "stream",
       "stream": "stdout",
       "text": [
        " 403 {\"message\":\"API rate limit exceeded for 67.164.41.171. (But here's the good news: Authenticated requests get a higher rate limit. Check out the documentation for more details.)\",\"documentation_url\":\"https://developer.github.com/v3/#rate-limiting\"}\n",
        "54"
       ]
      },
      {
       "output_type": "stream",
       "stream": "stdout",
       "text": [
        " 403 {\"message\":\"API rate limit exceeded for 67.164.41.171. (But here's the good news: Authenticated requests get a higher rate limit. Check out the documentation for more details.)\",\"documentation_url\":\"https://developer.github.com/v3/#rate-limiting\"}\n",
        "55"
       ]
      },
      {
       "output_type": "stream",
       "stream": "stdout",
       "text": [
        " 403 {\"message\":\"API rate limit exceeded for 67.164.41.171. (But here's the good news: Authenticated requests get a higher rate limit. Check out the documentation for more details.)\",\"documentation_url\":\"https://developer.github.com/v3/#rate-limiting\"}\n",
        "56"
       ]
      },
      {
       "output_type": "stream",
       "stream": "stdout",
       "text": [
        " 403 {\"message\":\"API rate limit exceeded for 67.164.41.171. (But here's the good news: Authenticated requests get a higher rate limit. Check out the documentation for more details.)\",\"documentation_url\":\"https://developer.github.com/v3/#rate-limiting\"}\n",
        "57"
       ]
      },
      {
       "output_type": "stream",
       "stream": "stdout",
       "text": [
        " 403 {\"message\":\"API rate limit exceeded for 67.164.41.171. (But here's the good news: Authenticated requests get a higher rate limit. Check out the documentation for more details.)\",\"documentation_url\":\"https://developer.github.com/v3/#rate-limiting\"}\n",
        "58"
       ]
      },
      {
       "output_type": "stream",
       "stream": "stdout",
       "text": [
        " 403 {\"message\":\"API rate limit exceeded for 67.164.41.171. (But here's the good news: Authenticated requests get a higher rate limit. Check out the documentation for more details.)\",\"documentation_url\":\"https://developer.github.com/v3/#rate-limiting\"}\n",
        "59"
       ]
      },
      {
       "output_type": "stream",
       "stream": "stdout",
       "text": [
        " 403 {\"message\":\"API rate limit exceeded for 67.164.41.171. (But here's the good news: Authenticated requests get a higher rate limit. Check out the documentation for more details.)\",\"documentation_url\":\"https://developer.github.com/v3/#rate-limiting\"}\n"
       ]
      }
     ],
     "prompt_number": 26
    },
    {
     "cell_type": "code",
     "collapsed": false,
     "input": [
      "response = requests.get('https://api.github.com/rate_limit')\n",
      "print 'response:', response.text\n",
      "from datetime import datetime\n",
      "print 'rate will reset at', datetime.fromtimestamp(response.json()['resources']['core']['reset'])"
     ],
     "language": "python",
     "metadata": {},
     "outputs": [
      {
       "output_type": "stream",
       "stream": "stdout",
       "text": [
        "response: {\"resources\":{\"core\":{\"limit\":60,\"remaining\":0,\"reset\":1425457697},\"search\":{\"limit\":10,\"remaining\":10,\"reset\":1425457290}},\"rate\":{\"limit\":60,\"remaining\":0,\"reset\":1425457697}}\n",
        "rate will reset at 2015-03-04 00:28:17\n"
       ]
      }
     ],
     "prompt_number": 28
    },
    {
     "cell_type": "code",
     "collapsed": false,
     "input": [
      "from urlparse import urljoin\n",
      "from datetime import datetime\n",
      "import time\n",
      "\n",
      "# a wrapper method for the GitHub API with authentication and throttling\n",
      "def make_github_request(endpoint, method='get', base_url='https://api.github.com',\n",
      "                        username=None, password=None,\n",
      "                        **kwargs):\n",
      "    \"\"\"\n",
      "    By default makes a GET request to https://api.github.com/endpoint,\n",
      "    passing any kwargs to requests.\n",
      "    Attempts to authenticate if given a username and password.\n",
      "    Handles throttling if needed.\n",
      "    Returns the JSON-decoded response content.\n",
      "    \"\"\"\n",
      "    # assemble url\n",
      "    url = urljoin(base_url, endpoint)\n",
      "    \n",
      "    # choose request method\n",
      "    try:\n",
      "        requester = getattr(requests, method)\n",
      "    except AttributeError:\n",
      "        raise ValueError('bad HTTP method %s' % method)\n",
      "    \n",
      "    # make request\n",
      "    response = requester(url, **kwargs)\n",
      "    \n",
      "    # check response status for authentication error\n",
      "    if response.status_code == 401:\n",
      "        raise ValueError('Authentication error: %s' % response.json()['message'])\n",
      "\n",
      "    # check response status for throttling\n",
      "    if response.status_code == 403:\n",
      "        # get time to wait\n",
      "        wait_time = get_github_throttle_wait_time()\n",
      "        \n",
      "        # log\n",
      "        print 'Throttling error: waiting for %d seconds' % wait_time)\n",
      "        \n",
      "        # wait\n",
      "        time.sleep(wait_time)\n",
      "        \n",
      "        # request recursively\n",
      "        make_github_request(endpoint, method, base_url, **kwargs)\n",
      "        \n",
      "    # return response JSON\n",
      "    data = response.json()\n",
      "    return data\n",
      "\n",
      "def get_github_throttle_wait_time(url='https://api.github.com/rate_limit'):\n",
      "    \"\"\"Returns the number of seconds to wait before throttling is reset\"\"\"\n",
      "    # request throttling info\n",
      "    response = requests.get(url)\n",
      "    \n",
      "    # decode data\n",
      "    data = response.json()\n",
      "    \n",
      "    # get reset time from timestamp\n",
      "    reset_timestamp = data['resources']['core']['reset']\n",
      "    reset_datetime = datetime.fromtimestamp(reset_timestamp)\n",
      "    \n",
      "    # compute time to wait\n",
      "    wait_time = reset_datetime - datetime.now()\n",
      "    wait_seconds = wait_time.total_seconds()\n",
      "    \n",
      "    # return\n",
      "    return wait_seconds    \n",
      "\n",
      "print get_github_throttle_wait_time()\n",
      "#make_github_request('/users/aschn', params={'type': 'public'})"
     ],
     "language": "python",
     "metadata": {},
     "outputs": [
      {
       "output_type": "stream",
       "stream": "stdout",
       "text": [
        "462.024179\n"
       ]
      }
     ],
     "prompt_number": 29
    }
   ],
   "metadata": {}
  }
 ]
}