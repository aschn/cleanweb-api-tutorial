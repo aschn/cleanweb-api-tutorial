{
 "metadata": {
  "name": "",
  "signature": "sha256:35af8bf8506fa4033f81f706ed5b4e6ef17c56072753f7ad739f0f33ed1eafcb"
 },
 "nbformat": 3,
 "nbformat_minor": 0,
 "worksheets": [
  {
   "cells": [
    {
     "cell_type": "markdown",
     "metadata": {},
     "source": [
      "# Throttling\n",
      "\n",
      "Many APIs will limit how many requests you can make in a given time period. This is called throttling. Throttling can vary by endpoints within an API."
     ]
    },
    {
     "cell_type": "code",
     "collapsed": false,
     "input": [
      "import requests\n",
      "from urlparse import urljoin\n",
      "from datetime import datetime\n",
      "import time"
     ],
     "language": "python",
     "metadata": {},
     "outputs": [],
     "prompt_number": 5
    },
    {
     "cell_type": "code",
     "collapsed": false,
     "input": [
      "# throttling error status: 403 Forbidden, or 429 Too Many Requests\n",
      "for i in range(60):\n",
      "    response = requests.get('https://api.github.com/users/aschn')\n",
      "    if i%10 == 0:\n",
      "        print i, response.status_code\n",
      "    elif response.status_code != 200:\n",
      "        print i, response.status_code, response.text"
     ],
     "language": "python",
     "metadata": {},
     "outputs": [
      {
       "output_type": "stream",
       "stream": "stdout",
       "text": [
        "0 403\n",
        "1"
       ]
      },
      {
       "output_type": "stream",
       "stream": "stdout",
       "text": [
        " 403 {\"message\":\"API rate limit exceeded for 67.164.41.171. (But here's the good news: Authenticated requests get a higher rate limit. Check out the documentation for more details.)\",\"documentation_url\":\"https://developer.github.com/v3/#rate-limiting\"}\n",
        "2"
       ]
      },
      {
       "output_type": "stream",
       "stream": "stdout",
       "text": [
        " 403 {\"message\":\"API rate limit exceeded for 67.164.41.171. (But here's the good news: Authenticated requests get a higher rate limit. Check out the documentation for more details.)\",\"documentation_url\":\"https://developer.github.com/v3/#rate-limiting\"}\n",
        "3"
       ]
      },
      {
       "output_type": "stream",
       "stream": "stdout",
       "text": [
        " 403 {\"message\":\"API rate limit exceeded for 67.164.41.171. (But here's the good news: Authenticated requests get a higher rate limit. Check out the documentation for more details.)\",\"documentation_url\":\"https://developer.github.com/v3/#rate-limiting\"}\n",
        "4"
       ]
      },
      {
       "output_type": "stream",
       "stream": "stdout",
       "text": [
        " 403 {\"message\":\"API rate limit exceeded for 67.164.41.171. (But here's the good news: Authenticated requests get a higher rate limit. Check out the documentation for more details.)\",\"documentation_url\":\"https://developer.github.com/v3/#rate-limiting\"}\n",
        "5"
       ]
      },
      {
       "output_type": "stream",
       "stream": "stdout",
       "text": [
        " 403 {\"message\":\"API rate limit exceeded for 67.164.41.171. (But here's the good news: Authenticated requests get a higher rate limit. Check out the documentation for more details.)\",\"documentation_url\":\"https://developer.github.com/v3/#rate-limiting\"}\n",
        "6"
       ]
      },
      {
       "output_type": "stream",
       "stream": "stdout",
       "text": [
        " 403 {\"message\":\"API rate limit exceeded for 67.164.41.171. (But here's the good news: Authenticated requests get a higher rate limit. Check out the documentation for more details.)\",\"documentation_url\":\"https://developer.github.com/v3/#rate-limiting\"}\n",
        "7"
       ]
      },
      {
       "output_type": "stream",
       "stream": "stdout",
       "text": [
        " 403 {\"message\":\"API rate limit exceeded for 67.164.41.171. (But here's the good news: Authenticated requests get a higher rate limit. Check out the documentation for more details.)\",\"documentation_url\":\"https://developer.github.com/v3/#rate-limiting\"}\n",
        "8"
       ]
      },
      {
       "output_type": "stream",
       "stream": "stdout",
       "text": [
        " 403 {\"message\":\"API rate limit exceeded for 67.164.41.171. (But here's the good news: Authenticated requests get a higher rate limit. Check out the documentation for more details.)\",\"documentation_url\":\"https://developer.github.com/v3/#rate-limiting\"}\n",
        "9"
       ]
      },
      {
       "output_type": "stream",
       "stream": "stdout",
       "text": [
        " 403 {\"message\":\"API rate limit exceeded for 67.164.41.171. (But here's the good news: Authenticated requests get a higher rate limit. Check out the documentation for more details.)\",\"documentation_url\":\"https://developer.github.com/v3/#rate-limiting\"}\n",
        "10"
       ]
      },
      {
       "output_type": "stream",
       "stream": "stdout",
       "text": [
        " 403\n",
        "11"
       ]
      },
      {
       "output_type": "stream",
       "stream": "stdout",
       "text": [
        " 403 {\"message\":\"API rate limit exceeded for 67.164.41.171. (But here's the good news: Authenticated requests get a higher rate limit. Check out the documentation for more details.)\",\"documentation_url\":\"https://developer.github.com/v3/#rate-limiting\"}\n",
        "12"
       ]
      },
      {
       "output_type": "stream",
       "stream": "stdout",
       "text": [
        " 403 {\"message\":\"API rate limit exceeded for 67.164.41.171. (But here's the good news: Authenticated requests get a higher rate limit. Check out the documentation for more details.)\",\"documentation_url\":\"https://developer.github.com/v3/#rate-limiting\"}\n",
        "13"
       ]
      },
      {
       "output_type": "stream",
       "stream": "stdout",
       "text": [
        " 403 {\"message\":\"API rate limit exceeded for 67.164.41.171. (But here's the good news: Authenticated requests get a higher rate limit. Check out the documentation for more details.)\",\"documentation_url\":\"https://developer.github.com/v3/#rate-limiting\"}\n",
        "14"
       ]
      },
      {
       "output_type": "stream",
       "stream": "stdout",
       "text": [
        " 403 {\"message\":\"API rate limit exceeded for 67.164.41.171. (But here's the good news: Authenticated requests get a higher rate limit. Check out the documentation for more details.)\",\"documentation_url\":\"https://developer.github.com/v3/#rate-limiting\"}\n",
        "15"
       ]
      },
      {
       "output_type": "stream",
       "stream": "stdout",
       "text": [
        " 403 {\"message\":\"API rate limit exceeded for 67.164.41.171. (But here's the good news: Authenticated requests get a higher rate limit. Check out the documentation for more details.)\",\"documentation_url\":\"https://developer.github.com/v3/#rate-limiting\"}\n",
        "16"
       ]
      },
      {
       "output_type": "stream",
       "stream": "stdout",
       "text": [
        " 403 {\"message\":\"API rate limit exceeded for 67.164.41.171. (But here's the good news: Authenticated requests get a higher rate limit. Check out the documentation for more details.)\",\"documentation_url\":\"https://developer.github.com/v3/#rate-limiting\"}\n",
        "17"
       ]
      },
      {
       "output_type": "stream",
       "stream": "stdout",
       "text": [
        " 403 {\"message\":\"API rate limit exceeded for 67.164.41.171. (But here's the good news: Authenticated requests get a higher rate limit. Check out the documentation for more details.)\",\"documentation_url\":\"https://developer.github.com/v3/#rate-limiting\"}\n",
        "18"
       ]
      },
      {
       "output_type": "stream",
       "stream": "stdout",
       "text": [
        " 403 {\"message\":\"API rate limit exceeded for 67.164.41.171. (But here's the good news: Authenticated requests get a higher rate limit. Check out the documentation for more details.)\",\"documentation_url\":\"https://developer.github.com/v3/#rate-limiting\"}\n",
        "19"
       ]
      },
      {
       "output_type": "stream",
       "stream": "stdout",
       "text": [
        " 403 {\"message\":\"API rate limit exceeded for 67.164.41.171. (But here's the good news: Authenticated requests get a higher rate limit. Check out the documentation for more details.)\",\"documentation_url\":\"https://developer.github.com/v3/#rate-limiting\"}\n",
        "20"
       ]
      },
      {
       "output_type": "stream",
       "stream": "stdout",
       "text": [
        " 403\n",
        "21"
       ]
      },
      {
       "output_type": "stream",
       "stream": "stdout",
       "text": [
        " 403 {\"message\":\"API rate limit exceeded for 67.164.41.171. (But here's the good news: Authenticated requests get a higher rate limit. Check out the documentation for more details.)\",\"documentation_url\":\"https://developer.github.com/v3/#rate-limiting\"}\n",
        "22"
       ]
      },
      {
       "output_type": "stream",
       "stream": "stdout",
       "text": [
        " 403 {\"message\":\"API rate limit exceeded for 67.164.41.171. (But here's the good news: Authenticated requests get a higher rate limit. Check out the documentation for more details.)\",\"documentation_url\":\"https://developer.github.com/v3/#rate-limiting\"}\n",
        "23"
       ]
      },
      {
       "output_type": "stream",
       "stream": "stdout",
       "text": [
        " 403 {\"message\":\"API rate limit exceeded for 67.164.41.171. (But here's the good news: Authenticated requests get a higher rate limit. Check out the documentation for more details.)\",\"documentation_url\":\"https://developer.github.com/v3/#rate-limiting\"}\n",
        "24"
       ]
      },
      {
       "output_type": "stream",
       "stream": "stdout",
       "text": [
        " 403 {\"message\":\"API rate limit exceeded for 67.164.41.171. (But here's the good news: Authenticated requests get a higher rate limit. Check out the documentation for more details.)\",\"documentation_url\":\"https://developer.github.com/v3/#rate-limiting\"}\n",
        "25"
       ]
      },
      {
       "output_type": "stream",
       "stream": "stdout",
       "text": [
        " 403 {\"message\":\"API rate limit exceeded for 67.164.41.171. (But here's the good news: Authenticated requests get a higher rate limit. Check out the documentation for more details.)\",\"documentation_url\":\"https://developer.github.com/v3/#rate-limiting\"}\n",
        "26"
       ]
      },
      {
       "output_type": "stream",
       "stream": "stdout",
       "text": [
        " 403 {\"message\":\"API rate limit exceeded for 67.164.41.171. (But here's the good news: Authenticated requests get a higher rate limit. Check out the documentation for more details.)\",\"documentation_url\":\"https://developer.github.com/v3/#rate-limiting\"}\n",
        "27"
       ]
      },
      {
       "output_type": "stream",
       "stream": "stdout",
       "text": [
        " 403 {\"message\":\"API rate limit exceeded for 67.164.41.171. (But here's the good news: Authenticated requests get a higher rate limit. Check out the documentation for more details.)\",\"documentation_url\":\"https://developer.github.com/v3/#rate-limiting\"}\n",
        "28"
       ]
      },
      {
       "output_type": "stream",
       "stream": "stdout",
       "text": [
        " 403 {\"message\":\"API rate limit exceeded for 67.164.41.171. (But here's the good news: Authenticated requests get a higher rate limit. Check out the documentation for more details.)\",\"documentation_url\":\"https://developer.github.com/v3/#rate-limiting\"}\n",
        "29"
       ]
      },
      {
       "output_type": "stream",
       "stream": "stdout",
       "text": [
        " 403 {\"message\":\"API rate limit exceeded for 67.164.41.171. (But here's the good news: Authenticated requests get a higher rate limit. Check out the documentation for more details.)\",\"documentation_url\":\"https://developer.github.com/v3/#rate-limiting\"}\n",
        "30"
       ]
      },
      {
       "output_type": "stream",
       "stream": "stdout",
       "text": [
        " 403\n",
        "31"
       ]
      },
      {
       "output_type": "stream",
       "stream": "stdout",
       "text": [
        " 403 {\"message\":\"API rate limit exceeded for 67.164.41.171. (But here's the good news: Authenticated requests get a higher rate limit. Check out the documentation for more details.)\",\"documentation_url\":\"https://developer.github.com/v3/#rate-limiting\"}\n",
        "32"
       ]
      },
      {
       "output_type": "stream",
       "stream": "stdout",
       "text": [
        " 403 {\"message\":\"API rate limit exceeded for 67.164.41.171. (But here's the good news: Authenticated requests get a higher rate limit. Check out the documentation for more details.)\",\"documentation_url\":\"https://developer.github.com/v3/#rate-limiting\"}\n",
        "33"
       ]
      },
      {
       "output_type": "stream",
       "stream": "stdout",
       "text": [
        " 403 {\"message\":\"API rate limit exceeded for 67.164.41.171. (But here's the good news: Authenticated requests get a higher rate limit. Check out the documentation for more details.)\",\"documentation_url\":\"https://developer.github.com/v3/#rate-limiting\"}\n",
        "34"
       ]
      },
      {
       "output_type": "stream",
       "stream": "stdout",
       "text": [
        " 403 {\"message\":\"API rate limit exceeded for 67.164.41.171. (But here's the good news: Authenticated requests get a higher rate limit. Check out the documentation for more details.)\",\"documentation_url\":\"https://developer.github.com/v3/#rate-limiting\"}\n",
        "35"
       ]
      },
      {
       "output_type": "stream",
       "stream": "stdout",
       "text": [
        " 403 {\"message\":\"API rate limit exceeded for 67.164.41.171. (But here's the good news: Authenticated requests get a higher rate limit. Check out the documentation for more details.)\",\"documentation_url\":\"https://developer.github.com/v3/#rate-limiting\"}\n",
        "36"
       ]
      },
      {
       "output_type": "stream",
       "stream": "stdout",
       "text": [
        " 403 {\"message\":\"API rate limit exceeded for 67.164.41.171. (But here's the good news: Authenticated requests get a higher rate limit. Check out the documentation for more details.)\",\"documentation_url\":\"https://developer.github.com/v3/#rate-limiting\"}\n",
        "37"
       ]
      },
      {
       "output_type": "stream",
       "stream": "stdout",
       "text": [
        " 403 {\"message\":\"API rate limit exceeded for 67.164.41.171. (But here's the good news: Authenticated requests get a higher rate limit. Check out the documentation for more details.)\",\"documentation_url\":\"https://developer.github.com/v3/#rate-limiting\"}\n",
        "38"
       ]
      },
      {
       "output_type": "stream",
       "stream": "stdout",
       "text": [
        " 403 {\"message\":\"API rate limit exceeded for 67.164.41.171. (But here's the good news: Authenticated requests get a higher rate limit. Check out the documentation for more details.)\",\"documentation_url\":\"https://developer.github.com/v3/#rate-limiting\"}\n",
        "39"
       ]
      },
      {
       "output_type": "stream",
       "stream": "stdout",
       "text": [
        " 403 {\"message\":\"API rate limit exceeded for 67.164.41.171. (But here's the good news: Authenticated requests get a higher rate limit. Check out the documentation for more details.)\",\"documentation_url\":\"https://developer.github.com/v3/#rate-limiting\"}\n",
        "40"
       ]
      },
      {
       "output_type": "stream",
       "stream": "stdout",
       "text": [
        " 403\n",
        "41"
       ]
      },
      {
       "output_type": "stream",
       "stream": "stdout",
       "text": [
        " 403 {\"message\":\"API rate limit exceeded for 67.164.41.171. (But here's the good news: Authenticated requests get a higher rate limit. Check out the documentation for more details.)\",\"documentation_url\":\"https://developer.github.com/v3/#rate-limiting\"}\n",
        "42"
       ]
      },
      {
       "output_type": "stream",
       "stream": "stdout",
       "text": [
        " 403 {\"message\":\"API rate limit exceeded for 67.164.41.171. (But here's the good news: Authenticated requests get a higher rate limit. Check out the documentation for more details.)\",\"documentation_url\":\"https://developer.github.com/v3/#rate-limiting\"}\n",
        "43"
       ]
      },
      {
       "output_type": "stream",
       "stream": "stdout",
       "text": [
        " 403 {\"message\":\"API rate limit exceeded for 67.164.41.171. (But here's the good news: Authenticated requests get a higher rate limit. Check out the documentation for more details.)\",\"documentation_url\":\"https://developer.github.com/v3/#rate-limiting\"}\n",
        "44"
       ]
      },
      {
       "output_type": "stream",
       "stream": "stdout",
       "text": [
        " 403 {\"message\":\"API rate limit exceeded for 67.164.41.171. (But here's the good news: Authenticated requests get a higher rate limit. Check out the documentation for more details.)\",\"documentation_url\":\"https://developer.github.com/v3/#rate-limiting\"}\n",
        "45"
       ]
      },
      {
       "output_type": "stream",
       "stream": "stdout",
       "text": [
        " 403 {\"message\":\"API rate limit exceeded for 67.164.41.171. (But here's the good news: Authenticated requests get a higher rate limit. Check out the documentation for more details.)\",\"documentation_url\":\"https://developer.github.com/v3/#rate-limiting\"}\n",
        "46"
       ]
      },
      {
       "output_type": "stream",
       "stream": "stdout",
       "text": [
        " 403 {\"message\":\"API rate limit exceeded for 67.164.41.171. (But here's the good news: Authenticated requests get a higher rate limit. Check out the documentation for more details.)\",\"documentation_url\":\"https://developer.github.com/v3/#rate-limiting\"}\n",
        "47"
       ]
      },
      {
       "output_type": "stream",
       "stream": "stdout",
       "text": [
        " 403 {\"message\":\"API rate limit exceeded for 67.164.41.171. (But here's the good news: Authenticated requests get a higher rate limit. Check out the documentation for more details.)\",\"documentation_url\":\"https://developer.github.com/v3/#rate-limiting\"}\n",
        "48"
       ]
      },
      {
       "output_type": "stream",
       "stream": "stdout",
       "text": [
        " 403 {\"message\":\"API rate limit exceeded for 67.164.41.171. (But here's the good news: Authenticated requests get a higher rate limit. Check out the documentation for more details.)\",\"documentation_url\":\"https://developer.github.com/v3/#rate-limiting\"}\n",
        "49"
       ]
      },
      {
       "output_type": "stream",
       "stream": "stdout",
       "text": [
        " 403 {\"message\":\"API rate limit exceeded for 67.164.41.171. (But here's the good news: Authenticated requests get a higher rate limit. Check out the documentation for more details.)\",\"documentation_url\":\"https://developer.github.com/v3/#rate-limiting\"}\n",
        "50"
       ]
      },
      {
       "output_type": "stream",
       "stream": "stdout",
       "text": [
        " 403\n",
        "51"
       ]
      },
      {
       "output_type": "stream",
       "stream": "stdout",
       "text": [
        " 403 {\"message\":\"API rate limit exceeded for 67.164.41.171. (But here's the good news: Authenticated requests get a higher rate limit. Check out the documentation for more details.)\",\"documentation_url\":\"https://developer.github.com/v3/#rate-limiting\"}\n",
        "52"
       ]
      },
      {
       "output_type": "stream",
       "stream": "stdout",
       "text": [
        " 403 {\"message\":\"API rate limit exceeded for 67.164.41.171. (But here's the good news: Authenticated requests get a higher rate limit. Check out the documentation for more details.)\",\"documentation_url\":\"https://developer.github.com/v3/#rate-limiting\"}\n",
        "53"
       ]
      },
      {
       "output_type": "stream",
       "stream": "stdout",
       "text": [
        " 403 {\"message\":\"API rate limit exceeded for 67.164.41.171. (But here's the good news: Authenticated requests get a higher rate limit. Check out the documentation for more details.)\",\"documentation_url\":\"https://developer.github.com/v3/#rate-limiting\"}\n",
        "54"
       ]
      },
      {
       "output_type": "stream",
       "stream": "stdout",
       "text": [
        " 403 {\"message\":\"API rate limit exceeded for 67.164.41.171. (But here's the good news: Authenticated requests get a higher rate limit. Check out the documentation for more details.)\",\"documentation_url\":\"https://developer.github.com/v3/#rate-limiting\"}\n",
        "55"
       ]
      },
      {
       "output_type": "stream",
       "stream": "stdout",
       "text": [
        " 403 {\"message\":\"API rate limit exceeded for 67.164.41.171. (But here's the good news: Authenticated requests get a higher rate limit. Check out the documentation for more details.)\",\"documentation_url\":\"https://developer.github.com/v3/#rate-limiting\"}\n",
        "56"
       ]
      },
      {
       "output_type": "stream",
       "stream": "stdout",
       "text": [
        " 403 {\"message\":\"API rate limit exceeded for 67.164.41.171. (But here's the good news: Authenticated requests get a higher rate limit. Check out the documentation for more details.)\",\"documentation_url\":\"https://developer.github.com/v3/#rate-limiting\"}\n",
        "57"
       ]
      },
      {
       "output_type": "stream",
       "stream": "stdout",
       "text": [
        " 403 {\"message\":\"API rate limit exceeded for 67.164.41.171. (But here's the good news: Authenticated requests get a higher rate limit. Check out the documentation for more details.)\",\"documentation_url\":\"https://developer.github.com/v3/#rate-limiting\"}\n",
        "58"
       ]
      },
      {
       "output_type": "stream",
       "stream": "stdout",
       "text": [
        " 403 {\"message\":\"API rate limit exceeded for 67.164.41.171. (But here's the good news: Authenticated requests get a higher rate limit. Check out the documentation for more details.)\",\"documentation_url\":\"https://developer.github.com/v3/#rate-limiting\"}\n",
        "59"
       ]
      },
      {
       "output_type": "stream",
       "stream": "stdout",
       "text": [
        " 403 {\"message\":\"API rate limit exceeded for 67.164.41.171. (But here's the good news: Authenticated requests get a higher rate limit. Check out the documentation for more details.)\",\"documentation_url\":\"https://developer.github.com/v3/#rate-limiting\"}\n"
       ]
      }
     ],
     "prompt_number": 6
    },
    {
     "cell_type": "markdown",
     "metadata": {},
     "source": [
      "A good API will include instructions in the response and/or docs that help you figure out the rate limit that you've exceeded, and how long you have to wait before you will be allowed to make another request. GitHub has a good API."
     ]
    },
    {
     "cell_type": "code",
     "collapsed": false,
     "input": [
      "response = requests.get('https://api.github.com/rate_limit')\n",
      "print 'response:', response.text\n",
      "print 'rate will reset at', datetime.fromtimestamp(response.json()['resources']['core']['reset'])"
     ],
     "language": "python",
     "metadata": {},
     "outputs": [
      {
       "output_type": "stream",
       "stream": "stdout",
       "text": [
        "response: {\"resources\":{\"core\":{\"limit\":60,\"remaining\":0,\"reset\":1427861311},\"search\":{\"limit\":10,\"remaining\":10,\"reset\":1427858188}},\"rate\":{\"limit\":60,\"remaining\":0,\"reset\":1427861311}}\n",
        "rate will reset at 2015-03-31 21:08:31\n"
       ]
      }
     ],
     "prompt_number": 9
    },
    {
     "cell_type": "markdown",
     "metadata": {},
     "source": [
      "Once you know how long to wait, you can use `time.sleep(n_seconds)` to wait for the appropriate amount of time before recursively attempting to make the request again. The basic pattern is:\n",
      "\n",
      "```python\n",
      "def make_request():\n",
      "    response = request(url)\n",
      "    if is_throttled(response):\n",
      "        n_sec = time_to_wait()\n",
      "        time.sleep(n_sec)\n",
      "        make_request()\n",
      "```\n",
      "\n",
      "Alternatively, if you know the throttle rate ahead of time, you can limit your request rate to avoid exceeding the throttle rate."
     ]
    },
    {
     "cell_type": "code",
     "collapsed": false,
     "input": [
      "# a wrapper method for the GitHub API, with throttling\n",
      "def fetch_github_data(endpoint,\n",
      "                      method='get', base_url='https://api.github.com',\n",
      "                      username=None, password=None,\n",
      "                      **kwargs):\n",
      "    \"\"\"\n",
      "    By default makes a GET request to https://api.github.com/endpoint,\n",
      "    passing any kwargs to requests.\n",
      "    Returns the JSON-decoded response content.\n",
      "    \"\"\"\n",
      "    # assemble url\n",
      "    url = urljoin(base_url, endpoint)\n",
      "\n",
      "    # make request\n",
      "    response = make_github_request(url, method, **kwargs)\n",
      "\n",
      "    # extract JSON data\n",
      "    data = response.json()\n",
      "            \n",
      "    # return\n",
      "    return data\n",
      "    \n",
      "def make_github_request(url, method,\n",
      "                        **kwargs):    \n",
      "    # choose request method\n",
      "    try:\n",
      "        requester = getattr(requests, method.lower())\n",
      "    except AttributeError:\n",
      "        raise ValueError('%s is not a HTTP method' % method)\n",
      "    \n",
      "    # make request\n",
      "    response = requester(url, **kwargs)\n",
      "    \n",
      "    # check response status for throttling\n",
      "    if response.status_code == 403:\n",
      "        # get time to wait\n",
      "        wait_time = get_github_throttle_wait_time()\n",
      "        \n",
      "        # log\n",
      "        print 'Throttling error: waiting for %d seconds' % wait_time\n",
      "        \n",
      "        # wait\n",
      "        time.sleep(wait_time)\n",
      "        \n",
      "        # request recursively\n",
      "        make_github_request(url, method, username, password, **kwargs)\n",
      "\n",
      "    # return response\n",
      "    return response\n",
      "\n",
      "def get_github_throttle_wait_time(url='https://api.github.com/rate_limit'):\n",
      "    \"\"\"Returns the number of seconds to wait before throttling is reset\"\"\"\n",
      "    # request throttling info\n",
      "    response = requests.get(url)\n",
      "    \n",
      "    # decode data\n",
      "    data = response.json()\n",
      "    \n",
      "    # get reset time from timestamp\n",
      "    reset_timestamp = data['resources']['core']['reset']\n",
      "    reset_datetime = datetime.fromtimestamp(reset_timestamp)\n",
      "    \n",
      "    # compute time to wait\n",
      "    wait_time = reset_datetime - datetime.now()\n",
      "    wait_seconds = wait_time.total_seconds()\n",
      "    \n",
      "    # return\n",
      "    return wait_seconds    "
     ],
     "language": "python",
     "metadata": {},
     "outputs": []
    },
    {
     "cell_type": "code",
     "collapsed": false,
     "input": [
      "print get_github_throttle_wait_time()\n",
      "#make_github_request('/users/aschn', params={'type': 'public'})"
     ],
     "language": "python",
     "metadata": {},
     "outputs": []
    }
   ],
   "metadata": {}
  }
 ]
}